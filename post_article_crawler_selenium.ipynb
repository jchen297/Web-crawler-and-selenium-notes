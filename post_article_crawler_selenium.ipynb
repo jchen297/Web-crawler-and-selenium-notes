{
 "cells": [
  {
   "cell_type": "code",
   "execution_count": 3,
   "metadata": {},
   "outputs": [],
   "source": [
    "from bs4 import BeautifulSoup\n",
    "import time\n",
    "import requests\n",
    "import random\n",
    "from selenium import webdriver\n",
    "import pandas as pd\n",
    "import numpy as np\n",
    "\n",
    "time_interval = random.randint(1,30)# random.uniform(1,5)\n",
    "# time.sleep(time_interval)#时间也可以设置成随机停止，如例子所示为在1到5秒之间随机停止\n",
    "chromePath = r'D:\\software\\Other\\chromedriver.exe'\n",
    "wd = webdriver.Chrome(executable_path= chromePath)"
   ]
  },
  {
   "cell_type": "code",
   "execution_count": 8,
   "metadata": {},
   "outputs": [],
   "source": [
    "user_id = ['tian-mei-gong-zuo-shi-21','weda-hui','teng-xun-yun-4','teng-yun-zhi-ku','teng-xun-yi-dian','teng-xun-dong-man','teng-xun-li-cai-tong-48','wei-xin-93-75','teng-xun-yan-jiu-yuan-28','teng-xun-fang-shui-qiang','wei-xin-zhi-fu-30','teng-xun-da-xue','teng-xun-you-xi-an-quan','teng-xun-ji-zhu-gong-cheng','teng-xun-wetest-74','teng-xun-da-shu-ju','teng-xun-qq-60','teng-xun-bugly','teng-xun-yun-ji-zhu-she-qu','teng-xun-shou-hu-zhe-ji-hua','teng-xun-an-quan-lian-he-shi-yan-shi','teng-xun-fan-yi-jun','qq-yin-yue']\n",
    "names = ['腾讯天美工作室群','腾讯科学WE大会','腾讯云','腾云智库','腾讯医典','腾讯动漫','腾讯理财通','微信','腾讯研究院','腾讯防水墙','微信支付','腾讯大学','腾讯游戏安全','腾讯技术工程','腾讯WeTest','腾讯大数据','腾讯QQ','腾讯Bugly','腾讯云技术社区','腾讯守护者计划','腾讯安全联合实验室','腾讯翻译君','QQ音乐']"
   ]
  },
  {
   "cell_type": "code",
   "execution_count": 10,
   "metadata": {},
   "outputs": [],
   "source": [
    "# 'teng-xun-70','a-li-ba-ba-23-79','da-zhong-dian-ping-83','bai-du-81-39'\n",
    "# 'wan-mei-shi-jie-48-2','zhi-fu-bao-72-4','teng-xun-ke-ji', 'jing-dong-46-34'\n",
    "# user_id = ['wan-mei-shi-jie-48-2','zhi-fu-bao-72-4','teng-xun-ke-ji','jing-dong-46-34','teng-xun-70','a-li-ba-ba-23-79','da-zhong-dian-ping-83','bai-du-81-39']\n",
    "for uid in user_id:\n",
    "    file_name = 'post_urls/' + uid +'.csv'\n",
    "    df = pd.read_csv(file_name)['key']\n",
    "    for i in range(0,len(df)):\n",
    "        url = df[i]\n",
    "        wd.get(f'https:{url}')\n",
    "        # 验证码\n",
    "        try:\n",
    "            if '系统监测到您的网络环境存在异常，为保证您的正常访问，请输入验证码进行验证。' in wd.find_element_by_class_name('Unhuman').get_attribute('innerHTML'):\n",
    "                time.sleep(60)\n",
    "        except: pass\n",
    "        try:\n",
    "            time_interval = random.randint(5,20)# random.uniform(1,5)\n",
    "            time.sleep(time_interval)\n",
    "            wd.execute_script(\"window.scrollTo(0, document.body.scrollHeight);\")\n",
    "            info = wd.find_element_by_class_name('Post-RichTextContainer').text.replace('\\n','').replace('\\xad','')\n",
    "            with open(f'tenx_posts/{uid}.txt','a',errors='ignore') as f:\n",
    "                f.write(wd.title)\n",
    "                f.write(info)\n",
    "                f.write('\\r\\n')\n",
    "            with open(f'tenx_posts/{uid}/title.txt','a',errors='ignore') as f:\n",
    "                f.write(wd.title)\n",
    "                f.write('\\r\\n')\n",
    "            with open(f'tenx_posts/{uid}/{i}.txt','w',errors='ignore') as f:\n",
    "                f.write(wd.title)\n",
    "                f.write('\\r\\n')\n",
    "                f.write(info)\n",
    "        except: pass\n",
    "        time.sleep(2)"
   ]
  },
  {
   "cell_type": "code",
   "execution_count": 4,
   "metadata": {},
   "outputs": [
    {
     "name": "stdout",
     "output_type": "stream",
     "text": [
      "76 wan-mei-shi-jie-48-2\n",
      "296 zhi-fu-bao-72-4\n",
      "98 teng-xun-ke-ji\n"
     ]
    }
   ],
   "source": [
    "for uid in user_id:\n",
    "    file_name = 'post_urls/' + uid +'.csv'\n",
    "    df = pd.read_csv(file_name)['key']\n",
    "    print(len(df), uid)"
   ]
  },
  {
   "cell_type": "code",
   "execution_count": null,
   "metadata": {},
   "outputs": [],
   "source": []
  },
  {
   "cell_type": "markdown",
   "metadata": {},
   "source": [
    "## 创建目录"
   ]
  },
  {
   "cell_type": "code",
   "execution_count": 7,
   "metadata": {},
   "outputs": [
    {
     "name": "stdout",
     "output_type": "stream",
     "text": [
      "tenx_posts/tian-mei-gong-zuo-shi-21 创建成功\n",
      "tenx_posts/weda-hui 创建成功\n",
      "tenx_posts/teng-xun-yun-4 创建成功\n",
      "tenx_posts/teng-yun-zhi-ku 创建成功\n",
      "tenx_posts/teng-xun-yi-dian 创建成功\n",
      "tenx_posts/teng-xun-dong-man 创建成功\n",
      "tenx_posts/teng-xun-li-cai-tong-48 创建成功\n",
      "tenx_posts/wei-xin-93-75 创建成功\n",
      "tenx_posts/teng-xun-yan-jiu-yuan-28 创建成功\n",
      "tenx_posts/teng-xun-fang-shui-qiang 创建成功\n",
      "tenx_posts/wei-xin-zhi-fu-30 创建成功\n",
      "tenx_posts/teng-xun-da-xue 创建成功\n",
      "tenx_posts/teng-xun-you-xi-an-quan 创建成功\n",
      "tenx_posts/teng-xun-ji-zhu-gong-cheng 创建成功\n",
      "tenx_posts/teng-xun-wetest-74 创建成功\n",
      "tenx_posts/teng-xun-da-shu-ju 创建成功\n",
      "tenx_posts/teng-xun-qq-60 创建成功\n",
      "tenx_posts/teng-xun-bugly 创建成功\n",
      "tenx_posts/teng-xun-yun-ji-zhu-she-qu 创建成功\n",
      "tenx_posts/teng-xun-shou-hu-zhe-ji-hua 创建成功\n",
      "tenx_posts/teng-xun-an-quan-lian-he-shi-yan-shi 创建成功\n",
      "tenx_posts/teng-xun-fan-yi-jun 创建成功\n",
      "tenx_posts/qq-yin-yue 创建成功\n"
     ]
    }
   ],
   "source": [
    "def mkdir(path):\n",
    "    # 引入模块\n",
    "    import os\n",
    "  \n",
    "    # 去除首位空格\n",
    "    path=path.strip()\n",
    "    # 去除尾部 \\ 符号\n",
    "    path=path.rstrip(\"\\\\\")\n",
    "  \n",
    "    # 判断路径是否存在\n",
    "    # 存在     True\n",
    "    # 不存在   False\n",
    "    isExists=os.path.exists(path)\n",
    "  \n",
    "    # 判断结果\n",
    "    if not isExists:\n",
    "        # 如果不存在则创建目录\n",
    "        # 创建目录操作函数\n",
    "        os.makedirs(path)\n",
    "  \n",
    "        print(path+' 创建成功')\n",
    "        return True\n",
    "    else:\n",
    "        # 如果目录存在则不创建，并提示目录已存在\n",
    "        print(path+' 目录已存在')\n",
    "        return False\n",
    "    \n",
    "for uid in user_id:\n",
    "    mkpath = f'tenx_posts/{uid}'\n",
    "    # 调用函数\n",
    "    mkdir(mkpath)"
   ]
  },
  {
   "cell_type": "code",
   "execution_count": null,
   "metadata": {},
   "outputs": [],
   "source": []
  }
 ],
 "metadata": {
  "kernelspec": {
   "display_name": "Python 3",
   "language": "python",
   "name": "python3"
  },
  "language_info": {
   "codemirror_mode": {
    "name": "ipython",
    "version": 3
   },
   "file_extension": ".py",
   "mimetype": "text/x-python",
   "name": "python",
   "nbconvert_exporter": "python",
   "pygments_lexer": "ipython3",
   "version": "3.7.3"
  },
  "nbTranslate": {
   "displayLangs": [
    "*"
   ],
   "hotkey": "alt-t",
   "langInMainMenu": true,
   "sourceLang": "en",
   "targetLang": "fr",
   "useGoogleTranslate": true
  },
  "varInspector": {
   "cols": {
    "lenName": 16,
    "lenType": 16,
    "lenVar": 40
   },
   "kernels_config": {
    "python": {
     "delete_cmd_postfix": "",
     "delete_cmd_prefix": "del ",
     "library": "var_list.py",
     "varRefreshCmd": "print(var_dic_list())"
    },
    "r": {
     "delete_cmd_postfix": ") ",
     "delete_cmd_prefix": "rm(",
     "library": "var_list.r",
     "varRefreshCmd": "cat(var_dic_list()) "
    }
   },
   "types_to_exclude": [
    "module",
    "function",
    "builtin_function_or_method",
    "instance",
    "_Feature"
   ],
   "window_display": false
  }
 },
 "nbformat": 4,
 "nbformat_minor": 2
}
