{
 "cells": [
  {
   "cell_type": "code",
   "execution_count": 6,
   "metadata": {},
   "outputs": [],
   "source": [
    "import pandas as pd\n",
    "import numpy as np\n",
    "# 导入词云制作库wordcloud和中文分词库jieba\n",
    "import jieba\n",
    "import wordcloud\n",
    "import matplotlib.pyplot as plt             \n",
    "from PIL import Image\n",
    "\n",
    "def dataPrepos(text, stopkey):\n",
    "    l = []\n",
    "    pos = ['n', 'nz', 'v', 'vd', 'vn', 'l', 'a', 'd']  # 定义选取的词性\n",
    "    seg = jieba.posseg.cut(text)  # 分词\n",
    "    for i in seg:\n",
    "        if i.word not in stopkey and i.flag in pos:  # 去停用词 + 词性筛选\n",
    "            l.append(i.word)\n",
    "    return l\n",
    "def read_file(path, store_list):\n",
    "    with open(f'{path}.txt',errors='ignore',encoding = \"utf-8\") as f:\n",
    "        for line in f:\n",
    "            words = line.strip()\n",
    "            if words not in store_list:\n",
    "                store_list.append(words)\n",
    "stopwords = []\n",
    "\n",
    "path_baidu = 'stopwords/baidu_stopwords'\n",
    "path_siculab = 'stopwords/scu_stopwords'\n",
    "path_noram = 'stopwords/cn_stopwords'\n",
    "\n",
    "read_file(path_baidu,stopwords)\n",
    "read_file(path_siculab,stopwords)\n",
    "read_file(path_noram,stopwords)\n",
    "stopwords.append('知乎')\n",
    "stopwords.append('一个')\n",
    "stopwords.append('-')"
   ]
  },
  {
   "cell_type": "code",
   "execution_count": 21,
   "metadata": {},
   "outputs": [],
   "source": [
    "ls = [172,98,16,28,136,10,20,20,163,17,71,5,49,53,38,311,139,45,21,109,769,156,181,18,8]\n",
    "comp = ['teng-xun-70','teng-xun-ke-ji','tian-mei-gong-zuo-shi-21','weda-hui','teng-xun-yun-4','teng-yun-zhi-ku','teng-xun-yi-dian','teng-xun-dong-man','teng-xun-li-cai-tong-48','wei-xin-93-75','teng-xun-yan-jiu-yuan-28','teng-xun-fang-shui-qiang','wei-xin-zhi-fu-30','teng-xun-da-xue','teng-xun-you-xi-an-quan','teng-xun-ji-zhu-gong-cheng','teng-xun-wetest-74','teng-xun-da-shu-ju','teng-xun-qq-60','teng-xun-bugly','teng-xun-yun-ji-zhu-she-qu','teng-xun-shou-hu-zhe-ji-hua','teng-xun-an-quan-lian-he-shi-yan-shi','teng-xun-fan-yi-jun','qq-yin-yue']"
   ]
  },
  {
   "cell_type": "code",
   "execution_count": 22,
   "metadata": {},
   "outputs": [],
   "source": [
    "for i in comp:\n",
    "    data = pd.read_csv(f'tenx_posts/{i}.csv')\n",
    "    idList, titleList, abstractList = data['id'], data['title'], data['abstract']\n",
    "    corpus = '' # 将所有文档输出到一个list中，一行就是一个文档\n",
    "    for index in range(len(idList)):\n",
    "        text = '%s。%s' % (titleList[index], abstractList[index]) # 拼接标题和摘要\n",
    "        text = dataPrepos(text,stopwords) # 文本预处理\n",
    "        text = \" \".join(text) # 连接成字符串，空格分隔\n",
    "        corpus+=text\n",
    "    # 构建并配置词云对象w\n",
    "    w = wordcloud.WordCloud(width=1000,\n",
    "                            height=700,\n",
    "                            background_color='white',\n",
    "                            font_path='msyh.ttc')\n",
    "\n",
    "    # 将string变量传入w的generate()方法，给词云输入文字\n",
    "    w.generate(corpus)\n",
    "\n",
    "    # 将词云图片导出到当前文件夹\n",
    "    w.to_file(f'词云/{i}.png')"
   ]
  },
  {
   "cell_type": "code",
   "execution_count": null,
   "metadata": {},
   "outputs": [],
   "source": []
  }
 ],
 "metadata": {
  "kernelspec": {
   "display_name": "Python 3",
   "language": "python",
   "name": "python3"
  },
  "language_info": {
   "codemirror_mode": {
    "name": "ipython",
    "version": 3
   },
   "file_extension": ".py",
   "mimetype": "text/x-python",
   "name": "python",
   "nbconvert_exporter": "python",
   "pygments_lexer": "ipython3",
   "version": "3.7.3"
  },
  "nbTranslate": {
   "displayLangs": [
    "*"
   ],
   "hotkey": "alt-t",
   "langInMainMenu": true,
   "sourceLang": "en",
   "targetLang": "fr",
   "useGoogleTranslate": true
  },
  "varInspector": {
   "cols": {
    "lenName": 16,
    "lenType": 16,
    "lenVar": 40
   },
   "kernels_config": {
    "python": {
     "delete_cmd_postfix": "",
     "delete_cmd_prefix": "del ",
     "library": "var_list.py",
     "varRefreshCmd": "print(var_dic_list())"
    },
    "r": {
     "delete_cmd_postfix": ") ",
     "delete_cmd_prefix": "rm(",
     "library": "var_list.r",
     "varRefreshCmd": "cat(var_dic_list()) "
    }
   },
   "types_to_exclude": [
    "module",
    "function",
    "builtin_function_or_method",
    "instance",
    "_Feature"
   ],
   "window_display": false
  }
 },
 "nbformat": 4,
 "nbformat_minor": 2
}
