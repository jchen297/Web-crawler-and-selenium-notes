{
 "cells": [
  {
   "cell_type": "code",
   "execution_count": 6,
   "metadata": {},
   "outputs": [
    {
     "ename": "ModuleNotFoundError",
     "evalue": "No module named 'beautifulSoup4'",
     "output_type": "error",
     "traceback": [
      "\u001b[1;31m---------------------------------------------------------------------------\u001b[0m",
      "\u001b[1;31mModuleNotFoundError\u001b[0m                       Traceback (most recent call last)",
      "\u001b[1;32m<ipython-input-6-242526635da9>\u001b[0m in \u001b[0;36m<module>\u001b[1;34m\u001b[0m\n\u001b[0;32m      1\u001b[0m \u001b[1;31m#首先我们先导入requests这个包\u001b[0m\u001b[1;33m\u001b[0m\u001b[1;33m\u001b[0m\u001b[1;33m\u001b[0m\u001b[0m\n\u001b[1;32m----> 2\u001b[1;33m \u001b[1;32mimport\u001b[0m \u001b[0mbeautifulSoup4\u001b[0m\u001b[1;33m\u001b[0m\u001b[1;33m\u001b[0m\u001b[0m\n\u001b[0m\u001b[0;32m      3\u001b[0m \u001b[1;32mimport\u001b[0m \u001b[0mrequests\u001b[0m\u001b[1;33m\u001b[0m\u001b[1;33m\u001b[0m\u001b[0m\n\u001b[0;32m      4\u001b[0m \u001b[1;33m\u001b[0m\u001b[0m\n\u001b[0;32m      5\u001b[0m \u001b[1;31m#我们来吧百度的index页面的html源码抓取到本地，并用r变量保存\u001b[0m\u001b[1;33m\u001b[0m\u001b[1;33m\u001b[0m\u001b[1;33m\u001b[0m\u001b[0m\n",
      "\u001b[1;31mModuleNotFoundError\u001b[0m: No module named 'beautifulSoup4'"
     ]
    }
   ],
   "source": [
    "#首先我们先导入requests这个包\n",
    "import requests\n",
    "\n",
    "#我们来吧百度的index页面的html源码抓取到本地，并用r变量保存\n",
    "#注意这里，网页前面的 http://一定要写出来，它并不能像真正的浏览器一样帮我们补全http协议\n",
    "r = requests.get(\"http://www.baidu.com\").\n",
    "\n",
    "soup = BeautifulSoup(\"http://www.baidu.com\", 'html.parser')\n",
    "\n",
    "print(soup.prettify())"
   ]
  },
  {
   "cell_type": "markdown",
   "metadata": {},
   "source": [
    "<img src= 'image/request_7functions.jpg'>"
   ]
  },
  {
   "cell_type": "code",
   "execution_count": null,
   "metadata": {},
   "outputs": [],
   "source": [
    "#这个方法可以接收三个参数，其中第二个默认为None 第三个可选\n",
    "def get(url, params=None, **kwargs)\n",
    "    #作用是模拟发起GET请求\n",
    "    # Sends a GET request.\n",
    "    #模拟获取页面的url链接\n",
    "    :param url: URL for the new :class:Request object. \n",
    "    #额外参数 字典或字节流格式，可选\n",
    "    :param params: (optional) Dictionary or bytes to be sent in the query string for the :class:Request. \n",
    "    # 十二个控制访问参数，比如可以自定义header\n",
    "    :param **kwargs: Optional arguments that request takes. \n",
    "    # 返回一个Response对象\n",
    "    :return: :class:Response <Response> object \n",
    "    :type: requests.Response"
   ]
  },
  {
   "cell_type": "markdown",
   "metadata": {},
   "source": [
    "kwargs: 控制访问的参数，均为可选项\n",
    "\n",
    "params : 字典或字节序列，作为参数增加到url中\n",
    "\n",
    "data : 字典、字节序列或文件对象，作为Request的内容 json : JSON格式的数据，作为Request的内容\n",
    "\n",
    "headers : 字典，HTTP定制头\n",
    "\n",
    "cookies : 字典或CookieJar，Request中的cookie\n",
    "\n",
    "auth : 元组，支持HTTP认证功能\n",
    "\n",
    "files : 字典类型，传输文件\n",
    "\n",
    "timeout : 设定超时时间，秒为单位\n",
    "\n",
    "proxies : 字典类型，设定访问代理服务器，可以增加登录认证\n",
    "\n",
    "allow_redirects : True/False，默认为True，重定向开关\n",
    "\n",
    "stream : True/False，默认为True，获取内容立即下载开关\n",
    "\n",
    "verify : True/False，默认为True，认证SSL证书开关\n",
    "\n",
    "cert : 本地SSL证书路径\n",
    "\n",
    "url: 拟更新页面的url链接\n",
    "\n",
    "data: 字典、字节序列或文件，Request的内容\n",
    "\n",
    "json: JSON格式的数据，Request的内容"
   ]
  },
  {
   "cell_type": "code",
   "execution_count": null,
   "metadata": {},
   "outputs": [],
   "source": []
  },
  {
   "cell_type": "code",
   "execution_count": 2,
   "metadata": {},
   "outputs": [],
   "source": [
    "import requests\n",
    "\n",
    "\n",
    "def getHtmlText(url):\n",
    "    try:\n",
    "        r = requests.get(url, timeout=30)\n",
    "        # 如果状态码不是200 则应发HTTOError异常\n",
    "        r.raise_for_status()\n",
    "        # 设置正确的编码方式\n",
    "        r.encoding = r.apparent_encoding\n",
    "        return r.text\n",
    "    except:\n",
    "        return \"Something Wrong!\""
   ]
  },
  {
   "cell_type": "code",
   "execution_count": 3,
   "metadata": {},
   "outputs": [
    {
     "data": {
      "text/plain": [
       "'Something Wrong!'"
      ]
     },
     "execution_count": 3,
     "metadata": {},
     "output_type": "execute_result"
    }
   ],
   "source": [
    "url = 'https://www.zhihu.com/question/372709117/answer/1193791563'\n",
    "getHtmlText(url)"
   ]
  },
  {
   "cell_type": "code",
   "execution_count": 7,
   "metadata": {},
   "outputs": [
    {
     "ename": "ImportError",
     "evalue": "cannot import name 'BeautifulSoup4' from 'bs4' (d:\\software\\Anaconda3\\lib\\site-packages\\bs4\\__init__.py)",
     "output_type": "error",
     "traceback": [
      "\u001b[1;31m---------------------------------------------------------------------------\u001b[0m",
      "\u001b[1;31mImportError\u001b[0m                               Traceback (most recent call last)",
      "\u001b[1;32m<ipython-input-7-f0bb9f7470a0>\u001b[0m in \u001b[0;36m<module>\u001b[1;34m\u001b[0m\n\u001b[0;32m      1\u001b[0m \u001b[1;31m#导入bs4模块\u001b[0m\u001b[1;33m\u001b[0m\u001b[1;33m\u001b[0m\u001b[1;33m\u001b[0m\u001b[0m\n\u001b[1;32m----> 2\u001b[1;33m \u001b[1;32mfrom\u001b[0m \u001b[0mbs4\u001b[0m \u001b[1;32mimport\u001b[0m \u001b[0mBeautifulSoup4\u001b[0m\u001b[1;33m\u001b[0m\u001b[1;33m\u001b[0m\u001b[0m\n\u001b[0m\u001b[0;32m      3\u001b[0m \u001b[1;31m#做一个美味汤\u001b[0m\u001b[1;33m\u001b[0m\u001b[1;33m\u001b[0m\u001b[1;33m\u001b[0m\u001b[0m\n\u001b[0;32m      4\u001b[0m \u001b[0msoup\u001b[0m \u001b[1;33m=\u001b[0m \u001b[0mBeautifulSoup\u001b[0m\u001b[1;33m(\u001b[0m\u001b[1;34m\"http://www.baidu.com\"\u001b[0m\u001b[1;33m,\u001b[0m \u001b[1;34m'html.parser'\u001b[0m\u001b[1;33m)\u001b[0m\u001b[1;33m\u001b[0m\u001b[1;33m\u001b[0m\u001b[0m\n\u001b[0;32m      5\u001b[0m \u001b[1;31m#输出结果\u001b[0m\u001b[1;33m\u001b[0m\u001b[1;33m\u001b[0m\u001b[1;33m\u001b[0m\u001b[0m\n",
      "\u001b[1;31mImportError\u001b[0m: cannot import name 'BeautifulSoup4' from 'bs4' (d:\\software\\Anaconda3\\lib\\site-packages\\bs4\\__init__.py)"
     ]
    }
   ],
   "source": [
    "#导入bs4模块\n",
    "from bs4 import BeautifulSoup\n",
    "#做一个美味汤\n",
    "soup = BeautifulSoup(\"http://www.baidu.com\", 'html.parser')\n",
    "#输出结果\n",
    "print(soup.prettify())"
   ]
  },
  {
   "cell_type": "code",
   "execution_count": null,
   "metadata": {},
   "outputs": [],
   "source": []
  }
 ],
 "metadata": {
  "kernelspec": {
   "display_name": "Python 3",
   "language": "python",
   "name": "python3"
  },
  "language_info": {
   "codemirror_mode": {
    "name": "ipython",
    "version": 3
   },
   "file_extension": ".py",
   "mimetype": "text/x-python",
   "name": "python",
   "nbconvert_exporter": "python",
   "pygments_lexer": "ipython3",
   "version": "3.7.3"
  },
  "nbTranslate": {
   "displayLangs": [
    "*"
   ],
   "hotkey": "alt-t",
   "langInMainMenu": true,
   "sourceLang": "en",
   "targetLang": "fr",
   "useGoogleTranslate": true
  },
  "varInspector": {
   "cols": {
    "lenName": 16,
    "lenType": 16,
    "lenVar": 40
   },
   "kernels_config": {
    "python": {
     "delete_cmd_postfix": "",
     "delete_cmd_prefix": "del ",
     "library": "var_list.py",
     "varRefreshCmd": "print(var_dic_list())"
    },
    "r": {
     "delete_cmd_postfix": ") ",
     "delete_cmd_prefix": "rm(",
     "library": "var_list.r",
     "varRefreshCmd": "cat(var_dic_list()) "
    }
   },
   "types_to_exclude": [
    "module",
    "function",
    "builtin_function_or_method",
    "instance",
    "_Feature"
   ],
   "window_display": false
  }
 },
 "nbformat": 4,
 "nbformat_minor": 2
}
